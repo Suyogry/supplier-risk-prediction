import pandas as pd

# Load dataset
df = pd.read_csv("data/raw/supplier_data.csv")

# Drop duplicate records
df.drop_duplicates(inplace=True)

# Fill missing values with appropriate strategies
df['delivery_days'].fillna(df['delivery_days'].median(), inplace=True)
df['defective_items'].fillna(0, inplace=True)

# Convert categorical variables into numerical format using one-hot encoding
df = pd.get_dummies(df, columns=['supplier_region', 'contract_type'], drop_first=True)

# Save cleaned dataset
df.to_csv("data/processed/supplier_data_cleaned.csv", index=False)

print("Data cleaning completed and saved.")
