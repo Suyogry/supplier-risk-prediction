import pandas as pd
import matplotlib.pyplot as plt
import seaborn as sns

# Load dataset
df = pd.read_csv("data/raw/supplier_data.csv")

# Display basic information about the dataset
print("Dataset Info:")
df.info()

print("\nSummary Statistics:")
print(df.describe())

# Check for missing values
missing_values = df.isnull().sum()
print("\nMissing Values:")
print(missing_values[missing_values > 0])

# Visualize distribution of supplier risk categories
plt.figure(figsize=(8, 5))
sns.countplot(x=df['risk_category'], palette='coolwarm')
plt.title("Supplier Risk Category Distribution")
plt.show()

# Correlation heatmap
plt.figure(figsize=(10, 6))
sns.heatmap(df.corr(), annot=True, cmap='coolwarm', linewidths=0.5)
plt.title("Feature Correlation Heatmap")
plt.show()
